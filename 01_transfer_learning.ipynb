{
  "nbformat": 4,
  "nbformat_minor": 0,
  "metadata": {
    "colab": {
      "provenance": [],
      "gpuType": "T4",
      "authorship_tag": "ABX9TyOJW94Z4VZPA8JaqSXLhPf8",
      "include_colab_link": true
    },
    "kernelspec": {
      "name": "python3",
      "display_name": "Python 3"
    },
    "language_info": {
      "name": "python"
    },
    "accelerator": "GPU"
  },
  "cells": [
    {
      "cell_type": "markdown",
      "metadata": {
        "id": "view-in-github",
        "colab_type": "text"
      },
      "source": [
        "<a href=\"https://colab.research.google.com/github/ShriAmogh/Deep_Learning/blob/main/01_transfer_learning.ipynb\" target=\"_parent\"><img src=\"https://colab.research.google.com/assets/colab-badge.svg\" alt=\"Open In Colab\"/></a>"
      ]
    },
    {
      "cell_type": "code",
      "execution_count": 1,
      "metadata": {
        "colab": {
          "base_uri": "https://localhost:8080/"
        },
        "id": "mDjvk4cxzN9q",
        "outputId": "c95a93f8-9542-4f6a-d121-3f0eb3a2f04c"
      },
      "outputs": [
        {
          "output_type": "stream",
          "name": "stdout",
          "text": [
            "--2023-12-10 15:56:04--  https://storage.googleapis.com/ztm_tf_course/food_vision/10_food_classes_10_percent.zip\n",
            "Resolving storage.googleapis.com (storage.googleapis.com)... 74.125.68.207, 64.233.170.207, 142.251.175.207, ...\n",
            "Connecting to storage.googleapis.com (storage.googleapis.com)|74.125.68.207|:443... connected.\n",
            "HTTP request sent, awaiting response... 200 OK\n",
            "Length: 168546183 (161M) [application/zip]\n",
            "Saving to: ‘10_food_classes_10_percent.zip’\n",
            "\n",
            "10_food_classes_10_ 100%[===================>] 160.74M  22.8MB/s    in 8.2s    \n",
            "\n",
            "2023-12-10 15:56:13 (19.7 MB/s) - ‘10_food_classes_10_percent.zip’ saved [168546183/168546183]\n",
            "\n"
          ]
        }
      ],
      "source": [
        "import zipfile\n",
        "!wget https://storage.googleapis.com/ztm_tf_course/food_vision/10_food_classes_10_percent.zip\n",
        "\n",
        "zip_ref = zipfile.ZipFile(\"10_food_classes_10_percent.zip\")\n",
        "zip_ref.extractall()\n",
        "zip_ref.close()\n"
      ]
    },
    {
      "cell_type": "code",
      "source": [
        "import os\n",
        "\n",
        "for dirpath , dirnames, filenames in os.walk(\"10_food_classes_10_percent\"):\n",
        "  print(f\"There are {len(dirnames)} and {len(filenames)} images in {dirpath}\")"
      ],
      "metadata": {
        "colab": {
          "base_uri": "https://localhost:8080/"
        },
        "id": "iJHbRBR40FoZ",
        "outputId": "5adc10e3-b71e-42a9-f40f-980c9e9acdd1"
      },
      "execution_count": 2,
      "outputs": [
        {
          "output_type": "stream",
          "name": "stdout",
          "text": [
            "There are 2 and 0 images in 10_food_classes_10_percent\n",
            "There are 10 and 0 images in 10_food_classes_10_percent/test\n",
            "There are 0 and 250 images in 10_food_classes_10_percent/test/sushi\n",
            "There are 0 and 250 images in 10_food_classes_10_percent/test/fried_rice\n",
            "There are 0 and 250 images in 10_food_classes_10_percent/test/pizza\n",
            "There are 0 and 250 images in 10_food_classes_10_percent/test/ramen\n",
            "There are 0 and 250 images in 10_food_classes_10_percent/test/grilled_salmon\n",
            "There are 0 and 250 images in 10_food_classes_10_percent/test/chicken_wings\n",
            "There are 0 and 250 images in 10_food_classes_10_percent/test/hamburger\n",
            "There are 0 and 250 images in 10_food_classes_10_percent/test/ice_cream\n",
            "There are 0 and 250 images in 10_food_classes_10_percent/test/chicken_curry\n",
            "There are 0 and 250 images in 10_food_classes_10_percent/test/steak\n",
            "There are 10 and 0 images in 10_food_classes_10_percent/train\n",
            "There are 0 and 75 images in 10_food_classes_10_percent/train/sushi\n",
            "There are 0 and 75 images in 10_food_classes_10_percent/train/fried_rice\n",
            "There are 0 and 75 images in 10_food_classes_10_percent/train/pizza\n",
            "There are 0 and 75 images in 10_food_classes_10_percent/train/ramen\n",
            "There are 0 and 75 images in 10_food_classes_10_percent/train/grilled_salmon\n",
            "There are 0 and 75 images in 10_food_classes_10_percent/train/chicken_wings\n",
            "There are 0 and 75 images in 10_food_classes_10_percent/train/hamburger\n",
            "There are 0 and 75 images in 10_food_classes_10_percent/train/ice_cream\n",
            "There are 0 and 75 images in 10_food_classes_10_percent/train/chicken_curry\n",
            "There are 0 and 75 images in 10_food_classes_10_percent/train/steak\n"
          ]
        }
      ]
    },
    {
      "cell_type": "code",
      "source": [
        "!ls 10_food_classes_10_percent/train"
      ],
      "metadata": {
        "colab": {
          "base_uri": "https://localhost:8080/"
        },
        "id": "WzhLzd051-X3",
        "outputId": "4642d9ef-3dc7-4fa6-e282-bf5e08d8db5b"
      },
      "execution_count": 3,
      "outputs": [
        {
          "output_type": "stream",
          "name": "stdout",
          "text": [
            "chicken_curry  fried_rice      hamburger  pizza  steak\n",
            "chicken_wings  grilled_salmon  ice_cream  ramen  sushi\n"
          ]
        }
      ]
    },
    {
      "cell_type": "markdown",
      "source": [
        "Now process the data for use"
      ],
      "metadata": {
        "id": "gLTEdnvt1nc5"
      }
    },
    {
      "cell_type": "code",
      "source": [
        "from tensorflow.keras.preprocessing.image import ImageDataGenerator\n",
        "\n",
        "IMG_SIZE = (224,224)\n",
        "BATCH_SIZE = 32\n",
        "\n",
        "train_dir = \"10_food_classes_10_percent/train/\"\n",
        "test_dir = \"10_food_classes_10_percent/test/\"\n",
        "\n",
        "train_datagen = ImageDataGenerator(rescale = 1/255.)\n",
        "test_datagen = ImageDataGenerator(rescale = 1/255.)\n",
        "\n",
        "train_data = train_datagen.flow_from_directory(directory = train_dir , batch_size = BATCH_SIZE, target_size = IMG_SIZE,\n",
        "                                               class_mode = \"categorical\")\n",
        "\n",
        "test_data = test_datagen.flow_from_directory(directory = test_dir , batch_size = BATCH_SIZE, target_size = IMG_SIZE,\n",
        "                                               class_mode = \"categorical\")\n"
      ],
      "metadata": {
        "colab": {
          "base_uri": "https://localhost:8080/"
        },
        "id": "XfG7bxfp1Rsp",
        "outputId": "78abbc50-422a-4a06-b8ce-c74d35280a07"
      },
      "execution_count": 3,
      "outputs": [
        {
          "output_type": "stream",
          "name": "stdout",
          "text": [
            "Found 750 images belonging to 10 classes.\n",
            "Found 2500 images belonging to 10 classes.\n"
          ]
        }
      ]
    },
    {
      "cell_type": "markdown",
      "source": [
        "Now using callbacks\n",
        " `Tensorboard callbacks used for tracking experiments"
      ],
      "metadata": {
        "id": "wCDc7YIzd9zB"
      }
    },
    {
      "cell_type": "code",
      "source": [
        "import datetime\n",
        "\n",
        "def create_tensorflow_callback(dir_name, experiment_name):\n",
        "  log_dir = dir_name + \"/\" + experiment_name + \"/\" +  datetime.datetime.now().strftime(\"%y%m%d-%H%M%S\")\n",
        "  tensorflow_callback = tf.keras.callbacks.TensorBoard(log_dir  = log_dir)\n",
        "  print(f\"Saving tensorboard log files to : {log_dir}\")\n",
        "  return tensorflow_callback"
      ],
      "metadata": {
        "id": "se2HD1VT3Rrn"
      },
      "execution_count": 4,
      "outputs": []
    },
    {
      "cell_type": "code",
      "source": [
        "#Using tf hub to create models"
      ],
      "metadata": {
        "id": "3RatzxNDfviP"
      },
      "execution_count": 39,
      "outputs": []
    },
    {
      "cell_type": "code",
      "source": [
        "# Comparing two models\n",
        "\n",
        "efficient_url = \"https://www.kaggle.com/models/tensorflow/efficientnet/frameworks/TensorFlow2/variations/b0-feature-vector/versions/1\"\n",
        "\n",
        "resnet_url = \"https://www.kaggle.com/models/tensorflow/resnet-50/frameworks/TensorFlow2/variations/classification/versions/1\"\n"
      ],
      "metadata": {
        "id": "QMJfi-mUjRVr"
      },
      "execution_count": 5,
      "outputs": []
    },
    {
      "cell_type": "code",
      "source": [
        "import tensorflow as tf\n",
        "import tensorflow_hub as hub\n",
        "from tensorflow.keras import layers"
      ],
      "metadata": {
        "id": "2TWmhI0Sj3VV"
      },
      "execution_count": 6,
      "outputs": []
    },
    {
      "cell_type": "code",
      "source": [
        "#creating model fn using models url\n",
        "def creat_model(model_url, num_classes =10):\n",
        "  '''\n",
        "  Take a tensorflow hub url and create sequential model with it.\n",
        "\n",
        "  Args:\n",
        "  model_url(str): A tensorflow hub feature extraction url\n",
        "  um_classes(int) : number of output neorons\n",
        "\n",
        "  Returns:\n",
        "  A uncompiled keras sequential'''\n",
        "\n",
        "  #Download pretrained model and save it as keras layer\n",
        "  feature_extraction_layer = hub.KerasLayer(model_url,  trainable = False,  name =\"feature_exttraction_ly\",\n",
        "                                            input_shape = IMG_SIZE +(3,))\n",
        "\n",
        "  #creating our own model\n",
        "  model = tf.keras.Sequential([\n",
        "      feature_extraction_layer,\n",
        "      layers.Dense(10, activation = \"softmax\", name = \"output_layer\")\n",
        "  ])\n",
        "  return model"
      ],
      "metadata": {
        "id": "u-h4cVvQkzap"
      },
      "execution_count": 7,
      "outputs": []
    },
    {
      "cell_type": "code",
      "source": [
        "resnet_model = creat_model(resnet_url, num_classes = train_data.num_classes)"
      ],
      "metadata": {
        "id": "ORywLB-4ojAb"
      },
      "execution_count": 43,
      "outputs": []
    },
    {
      "cell_type": "code",
      "source": [
        "#compiling\n",
        "resnet_model.compile(loss = tf.keras.losses.categorical_crossentropy,\n",
        "                     optimizer = tf.keras.optimizers.Adam(),\n",
        "                     metrics = [\"accuracy\"])"
      ],
      "metadata": {
        "id": "QUQKU0hNosvU"
      },
      "execution_count": 44,
      "outputs": []
    },
    {
      "cell_type": "code",
      "source": [
        "resnet_model.summary()"
      ],
      "metadata": {
        "colab": {
          "base_uri": "https://localhost:8080/"
        },
        "id": "XNF0nqFVqjYx",
        "outputId": "9c450a28-4d9c-435b-e27f-0c9914cd9945"
      },
      "execution_count": 26,
      "outputs": [
        {
          "output_type": "stream",
          "name": "stdout",
          "text": [
            "Model: \"sequential_3\"\n",
            "_________________________________________________________________\n",
            " Layer (type)                Output Shape              Param #   \n",
            "=================================================================\n",
            " feature_exttraction_ly (Ke  (None, 1001)              25612201  \n",
            " rasLayer)                                                       \n",
            "                                                                 \n",
            " output_layer (Dense)        (None, 10)                10020     \n",
            "                                                                 \n",
            "=================================================================\n",
            "Total params: 25622221 (97.74 MB)\n",
            "Trainable params: 10020 (39.14 KB)\n",
            "Non-trainable params: 25612201 (97.70 MB)\n",
            "_________________________________________________________________\n"
          ]
        }
      ]
    },
    {
      "cell_type": "code",
      "source": [
        "resnet_history = resnet_model.fit(train_data , epochs = 5, steps_per_epoch = len(train_data),\n",
        "                                 validation_data = test_data, validation_steps = len(test_data),\n",
        "                                 callbacks = [create_tensorflow_callback(dir_name = \"tensorflow_hub\", experiment_name= \"resnet50v2\")])"
      ],
      "metadata": {
        "colab": {
          "base_uri": "https://localhost:8080/"
        },
        "id": "ikvvaF5Kr9bV",
        "outputId": "f7d26c99-7050-4cf5-f273-762a377235ea"
      },
      "execution_count": 45,
      "outputs": [
        {
          "output_type": "stream",
          "name": "stdout",
          "text": [
            "Saving tensorboard log files to : tensorflow_hub/resnet50v2/231210-123532\n",
            "Epoch 1/5\n",
            "24/24 [==============================] - 28s 558ms/step - loss: 2.2969 - accuracy: 0.1453 - val_loss: 2.2873 - val_accuracy: 0.2576\n",
            "Epoch 2/5\n",
            "24/24 [==============================] - 11s 465ms/step - loss: 2.2800 - accuracy: 0.3240 - val_loss: 2.2704 - val_accuracy: 0.3768\n",
            "Epoch 3/5\n",
            "24/24 [==============================] - 11s 469ms/step - loss: 2.2637 - accuracy: 0.4280 - val_loss: 2.2537 - val_accuracy: 0.5128\n",
            "Epoch 4/5\n",
            "24/24 [==============================] - 10s 444ms/step - loss: 2.2476 - accuracy: 0.5200 - val_loss: 2.2373 - val_accuracy: 0.5424\n",
            "Epoch 5/5\n",
            "24/24 [==============================] - 11s 467ms/step - loss: 2.2318 - accuracy: 0.5480 - val_loss: 2.2210 - val_accuracy: 0.5632\n"
          ]
        }
      ]
    },
    {
      "cell_type": "code",
      "source": [
        "import matplotlib.pyplot as plt\n",
        "\n",
        "def plot_loss_curves(history):\n",
        "  loss = history.history['loss']\n",
        "  accuracy = history.history['accuracy']\n",
        "  val_loss = history.history['val_loss']\n",
        "  val_accuracy = history.history['val_accuracy']\n",
        "\n",
        "  epoch = range(len(history.history['loss']))\n",
        "\n",
        "  #plt.subplot(1,2,1)\n",
        "  plt.figure(figsize = (5,5))\n",
        "  plt.plot(epoch , loss , label = \"traing_loss\" )\n",
        "  plt.plot(epoch , val_loss , label = \"val_loss\" )\n",
        "  plt.legend()\n",
        "\n",
        "  #plt.subplot(1,2,2)\n",
        "  plt.figure(figsize = (5,5))\n",
        "  plt.plot(epoch , accuracy , label = \"accuracy\" )\n",
        "  plt.plot(epoch , val_accuracy , label = \"val_accuracy\" )\n",
        "  plt.legend()\n",
        "\n",
        ""
      ],
      "metadata": {
        "id": "XM5SIxfltnwn"
      },
      "execution_count": 66,
      "outputs": []
    },
    {
      "cell_type": "code",
      "source": [
        "plot_loss_curves(history = resnet_history)"
      ],
      "metadata": {
        "colab": {
          "base_uri": "https://localhost:8080/",
          "height": 875
        },
        "id": "QkSR8jk1w2_K",
        "outputId": "cd577a53-98aa-48bb-9111-d3a550917e04"
      },
      "execution_count": 67,
      "outputs": [
        {
          "output_type": "display_data",
          "data": {
            "text/plain": [
              "<Figure size 500x500 with 1 Axes>"
            ],
            "image/png": "[encoded data removed]"
          },
          "metadata": {}
        },
        {
          "output_type": "display_data",
          "data": {
            "text/plain": [
              "<Figure size 500x500 with 1 Axes>"
            ],
            "image/png": "[encoded data removed]"
          },
          "metadata": {}
        }
      ]
    },
    {
      "cell_type": "markdown",
      "source": [
        "# Now creating n testing efficient model"
      ],
      "metadata": {
        "id": "hgL9WKqTcXEO"
      }
    },
    {
      "cell_type": "code",
      "source": [
        "efficient_model = creat_model(efficient_url, num_classes= train_data.num_classes )"
      ],
      "metadata": {
        "id": "-bXvT8Dgw9NW"
      },
      "execution_count": 9,
      "outputs": []
    },
    {
      "cell_type": "code",
      "source": [
        "efficient_model.compile(loss = \"categorical_crossentropy\",\n",
        "                        optimizer = tf.keras.optimizers.Adam(),\n",
        "                        metrics = [\"accuracy\"])"
      ],
      "metadata": {
        "id": "BL3gWBVmdQiq"
      },
      "execution_count": 11,
      "outputs": []
    },
    {
      "cell_type": "code",
      "source": [
        "efficient_history = efficient_model.fit(train_data, epochs = 5, steps_per_epoch = len(train_data),\n",
        "                                        validation_data = test_data, validation_steps= len(test_data),\n",
        "                                        callbacks = [create_tensorflow_callback(dir_name = \"tensorflow_hub\", experiment_name= \"efficientb0\")])"
      ],
      "metadata": {
        "colab": {
          "base_uri": "https://localhost:8080/"
        },
        "id": "P8Liwwucd0Fs",
        "outputId": "c4c58e17-44d4-4352-988e-a929f46b38ff"
      },
      "execution_count": 12,
      "outputs": [
        {
          "output_type": "stream",
          "name": "stdout",
          "text": [
            "Saving tensorboard log files to : tensorflow_hub/efficientb0/231210-160501\n",
            "Epoch 1/5\n",
            "24/24 [==============================] - 34s 620ms/step - loss: 1.8121 - accuracy: 0.4453 - val_loss: 1.2599 - val_accuracy: 0.7164\n",
            "Epoch 2/5\n",
            "24/24 [==============================] - 11s 454ms/step - loss: 1.0417 - accuracy: 0.7760 - val_loss: 0.8518 - val_accuracy: 0.8192\n",
            "Epoch 3/5\n",
            "24/24 [==============================] - 10s 413ms/step - loss: 0.7553 - accuracy: 0.8533 - val_loss: 0.6874 - val_accuracy: 0.8444\n",
            "Epoch 4/5\n",
            "24/24 [==============================] - 10s 453ms/step - loss: 0.6080 - accuracy: 0.8707 - val_loss: 0.6019 - val_accuracy: 0.8536\n",
            "Epoch 5/5\n",
            "24/24 [==============================] - 11s 457ms/step - loss: 0.5157 - accuracy: 0.8827 - val_loss: 0.5499 - val_accuracy: 0.8628\n"
          ]
        }
      ]
    },
    {
      "cell_type": "code",
      "source": [],
      "metadata": {
        "id": "mUSzAE9FeYtO"
      },
      "execution_count": null,
      "outputs": []
    }
  ]
}